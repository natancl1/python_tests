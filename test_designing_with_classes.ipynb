{
 "cells": [
  {
   "cell_type": "code",
   "execution_count": 1,
   "metadata": {},
   "outputs": [],
   "source": [
    "class Selfless:\n",
    "    def __init__(self, data):\n",
    "        self.data = data\n",
    "    def selfless(arg1, arg2):    # A simple function in 3.X\n",
    "        return arg1 + arg2\n",
    "    def normal(self, arg1, arg2):# Instance expected when called\n",
    "        return self.data + arg1 + arg2"
   ]
  },
  {
   "cell_type": "code",
   "execution_count": 2,
   "metadata": {},
   "outputs": [],
   "source": [
    "X = Selfless(2)"
   ]
  },
  {
   "cell_type": "code",
   "execution_count": 3,
   "metadata": {},
   "outputs": [
    {
     "data": {
      "text/plain": [
       "9"
      ]
     },
     "execution_count": 3,
     "metadata": {},
     "output_type": "execute_result"
    }
   ],
   "source": [
    "X.normal(3, 4) # Instance passed to self automatically: 2+(3+4)"
   ]
  },
  {
   "cell_type": "code",
   "execution_count": 4,
   "metadata": {},
   "outputs": [
    {
     "data": {
      "text/plain": [
       "9"
      ]
     },
     "execution_count": 4,
     "metadata": {},
     "output_type": "execute_result"
    }
   ],
   "source": [
    "Selfless.normal(X, 3, 4) # self expected by method: pass manually"
   ]
  },
  {
   "cell_type": "code",
   "execution_count": 5,
   "metadata": {},
   "outputs": [
    {
     "data": {
      "text/plain": [
       "7"
      ]
     },
     "execution_count": 5,
     "metadata": {},
     "output_type": "execute_result"
    }
   ],
   "source": [
    "Selfless.selfless(3, 4) # Not instance: works in 3.X, fails in 2.X!"
   ]
  },
  {
   "cell_type": "code",
   "execution_count": 6,
   "metadata": {},
   "outputs": [
    {
     "ename": "TypeError",
     "evalue": "selfless() takes 2 positional arguments but 3 were given",
     "output_type": "error",
     "traceback": [
      "\u001b[0;31m---------------------------------------------------------------------------\u001b[0m",
      "\u001b[0;31mTypeError\u001b[0m                                 Traceback (most recent call last)",
      "\u001b[0;32m<ipython-input-6-abf884cf093e>\u001b[0m in \u001b[0;36m<module>\u001b[0;34m\u001b[0m\n\u001b[0;32m----> 1\u001b[0;31m \u001b[0mX\u001b[0m\u001b[0;34m.\u001b[0m\u001b[0mselfless\u001b[0m\u001b[0;34m(\u001b[0m\u001b[0;36m3\u001b[0m\u001b[0;34m,\u001b[0m \u001b[0;36m4\u001b[0m\u001b[0;34m)\u001b[0m\u001b[0;34m\u001b[0m\u001b[0;34m\u001b[0m\u001b[0m\n\u001b[0m",
      "\u001b[0;31mTypeError\u001b[0m: selfless() takes 2 positional arguments but 3 were given"
     ]
    }
   ],
   "source": [
    "X.selfless(3, 4)"
   ]
  },
  {
   "cell_type": "code",
   "execution_count": 7,
   "metadata": {},
   "outputs": [
    {
     "ename": "TypeError",
     "evalue": "normal() missing 1 required positional argument: 'arg2'",
     "output_type": "error",
     "traceback": [
      "\u001b[0;31m---------------------------------------------------------------------------\u001b[0m",
      "\u001b[0;31mTypeError\u001b[0m                                 Traceback (most recent call last)",
      "\u001b[0;32m<ipython-input-7-7f4067e03b4b>\u001b[0m in \u001b[0;36m<module>\u001b[0;34m\u001b[0m\n\u001b[0;32m----> 1\u001b[0;31m \u001b[0mSelfless\u001b[0m\u001b[0;34m.\u001b[0m\u001b[0mnormal\u001b[0m\u001b[0;34m(\u001b[0m\u001b[0;36m3\u001b[0m\u001b[0;34m,\u001b[0m \u001b[0;36m4\u001b[0m\u001b[0;34m)\u001b[0m\u001b[0;34m\u001b[0m\u001b[0;34m\u001b[0m\u001b[0m\n\u001b[0m",
      "\u001b[0;31mTypeError\u001b[0m: normal() missing 1 required positional argument: 'arg2'"
     ]
    }
   ],
   "source": [
    "Selfless.normal(3, 4)"
   ]
  },
  {
   "cell_type": "code",
   "execution_count": 8,
   "metadata": {},
   "outputs": [],
   "source": [
    "class Number:\n",
    "    def __init__(self, base):\n",
    "        self.base = base\n",
    "    def double(self):\n",
    "        return self.base * 2\n",
    "    def triple(self):\n",
    "        return self.base * 3"
   ]
  },
  {
   "cell_type": "code",
   "execution_count": 9,
   "metadata": {},
   "outputs": [
    {
     "data": {
      "text/plain": [
       "4"
      ]
     },
     "execution_count": 9,
     "metadata": {},
     "output_type": "execute_result"
    }
   ],
   "source": [
    "x = Number(2) # Class instance objects\n",
    "y = Number(3) # State + methods\n",
    "z = Number(4)\n",
    "x.double()    # Normal immediate calls"
   ]
  },
  {
   "cell_type": "code",
   "execution_count": 10,
   "metadata": {},
   "outputs": [],
   "source": [
    "acts = [x.double, y.double, y.triple, z.double] # List of bound methods"
   ]
  },
  {
   "cell_type": "code",
   "execution_count": 11,
   "metadata": {},
   "outputs": [
    {
     "name": "stdout",
     "output_type": "stream",
     "text": [
      "4\n",
      "6\n",
      "9\n",
      "8\n"
     ]
    }
   ],
   "source": [
    "for act in acts: # Calls are deferred\n",
    "    print(act()) # Call as though functions"
   ]
  },
  {
   "cell_type": "code",
   "execution_count": 12,
   "metadata": {},
   "outputs": [],
   "source": [
    "bound = x.double"
   ]
  },
  {
   "cell_type": "code",
   "execution_count": 13,
   "metadata": {},
   "outputs": [
    {
     "data": {
      "text/plain": [
       "(<__main__.Number at 0x7f8b92de0dc0>, <function __main__.Number.double(self)>)"
      ]
     },
     "execution_count": 13,
     "metadata": {},
     "output_type": "execute_result"
    }
   ],
   "source": [
    "bound.__self__, bound.__func__"
   ]
  },
  {
   "cell_type": "code",
   "execution_count": 14,
   "metadata": {},
   "outputs": [
    {
     "data": {
      "text/plain": [
       "2"
      ]
     },
     "execution_count": 14,
     "metadata": {},
     "output_type": "execute_result"
    }
   ],
   "source": [
    "bound.__self__.base"
   ]
  },
  {
   "cell_type": "code",
   "execution_count": 15,
   "metadata": {},
   "outputs": [
    {
     "data": {
      "text/plain": [
       "4"
      ]
     },
     "execution_count": 15,
     "metadata": {},
     "output_type": "execute_result"
    }
   ],
   "source": [
    "bound() # Calls bound.__func__(bound.__self__, ...)"
   ]
  },
  {
   "cell_type": "code",
   "execution_count": 16,
   "metadata": {},
   "outputs": [],
   "source": [
    "def square(arg):\n",
    "    return arg ** 2 # Simple functions (def or lambda)"
   ]
  },
  {
   "cell_type": "code",
   "execution_count": 17,
   "metadata": {},
   "outputs": [],
   "source": [
    "class Sum:\n",
    "    def __init__(self, val): # Callable instances\n",
    "        self.val = val\n",
    "    def __call__(self, arg):\n",
    "        return self.val + arg"
   ]
  },
  {
   "cell_type": "code",
   "execution_count": 18,
   "metadata": {},
   "outputs": [],
   "source": [
    "class Product:\n",
    "    def __init__(self, val): # Bound methods\n",
    "        self.val = val\n",
    "    def method(self, arg):\n",
    "        return self.val * arg"
   ]
  },
  {
   "cell_type": "code",
   "execution_count": 19,
   "metadata": {},
   "outputs": [],
   "source": [
    "sobject = Sum(2)\n",
    "pobject = Product(3)\n",
    "actions = [square, sobject, pobject.method] # Function, instance, method"
   ]
  },
  {
   "cell_type": "code",
   "execution_count": 20,
   "metadata": {},
   "outputs": [
    {
     "name": "stdout",
     "output_type": "stream",
     "text": [
      "25\n",
      "7\n",
      "15\n"
     ]
    }
   ],
   "source": [
    "for act in actions: # All three called same way\n",
    "    print(act(5))   # Call any one-arg callable"
   ]
  },
  {
   "cell_type": "code",
   "execution_count": 21,
   "metadata": {},
   "outputs": [
    {
     "data": {
      "text/plain": [
       "15"
      ]
     },
     "execution_count": 21,
     "metadata": {},
     "output_type": "execute_result"
    }
   ],
   "source": [
    "actions[-1](5) # Index, comprehensions, maps"
   ]
  },
  {
   "cell_type": "code",
   "execution_count": 22,
   "metadata": {},
   "outputs": [
    {
     "data": {
      "text/plain": [
       "[25, 7, 15]"
      ]
     },
     "execution_count": 22,
     "metadata": {},
     "output_type": "execute_result"
    }
   ],
   "source": [
    "[act(5) for act in actions]"
   ]
  },
  {
   "cell_type": "code",
   "execution_count": 23,
   "metadata": {},
   "outputs": [
    {
     "data": {
      "text/plain": [
       "[25, 7, 15]"
      ]
     },
     "execution_count": 23,
     "metadata": {},
     "output_type": "execute_result"
    }
   ],
   "source": [
    "list(map(lambda act: act(5), actions))"
   ]
  },
  {
   "cell_type": "code",
   "execution_count": 24,
   "metadata": {},
   "outputs": [],
   "source": [
    "class Negate:\n",
    "    def __init__(self, val): # Classes are callables too\n",
    "        self.val = -val      # But called for object, not work\n",
    "    def __repr__(self):      # Instance print format\n",
    "        return str(self.val)"
   ]
  },
  {
   "cell_type": "code",
   "execution_count": 25,
   "metadata": {},
   "outputs": [
    {
     "name": "stdout",
     "output_type": "stream",
     "text": [
      "25\n",
      "7\n",
      "15\n",
      "-5\n"
     ]
    }
   ],
   "source": [
    "actions = [square, sobject, pobject.method, Negate] # Call a class too\n",
    "for act in actions:\n",
    "    print(act(5))"
   ]
  },
  {
   "cell_type": "code",
   "execution_count": 26,
   "metadata": {},
   "outputs": [
    {
     "data": {
      "text/plain": [
       "[25, 7, 15, -5]"
      ]
     },
     "execution_count": 26,
     "metadata": {},
     "output_type": "execute_result"
    }
   ],
   "source": [
    "[act(5) for act in actions] # Runs __repr__ not __str__!"
   ]
  },
  {
   "cell_type": "code",
   "execution_count": 36,
   "metadata": {},
   "outputs": [
    {
     "name": "stdout",
     "output_type": "stream",
     "text": [
      "{25: <function square at 0x7f8b930b3dc0>, 7: <__main__.Sum object at 0x7f8b931e9640>, 15: <bound method Product.method of <__main__.Product object at 0x7f8b931e9580>>, -5: <class '__main__.Negate'>}\n",
      "25 => <function square at 0x7f8b930b3dc0>\n",
      "7 => <__main__.Sum object at 0x7f8b931e9640>\n",
      "15 => <bound method Product.method of <__main__.Product object at 0x7f8b931e9580>>\n",
      "-5 => <class '__main__.Negate'>\n"
     ]
    }
   ],
   "source": [
    "table = {act(5): act for act in actions}   # 3.X/2.7 dict comprehension\n",
    "print(table)\n",
    "for (key, value) in table.items():\n",
    "    print('{0} => {1}'.format(key, value)) # 2.6+/3.X str.format"
   ]
  },
  {
   "cell_type": "code",
   "execution_count": 39,
   "metadata": {},
   "outputs": [],
   "source": [
    "def factory(aClass, *pargs, **kargs): # Varargs tuple, dict\n",
    "    return aClass(*pargs, **kargs)    # Call aClass (or apply in 2.X only)"
   ]
  },
  {
   "cell_type": "code",
   "execution_count": 40,
   "metadata": {},
   "outputs": [],
   "source": [
    "class Spam:\n",
    "    def doit(self, message):\n",
    "        print(message)\n",
    "\n",
    "class Person:\n",
    "    def __init__(self, name, job=None):\n",
    "        self.name = name\n",
    "        self.job = job\n",
    "        \n",
    "object1 = factory(Spam)                    # Make a Spam object\n",
    "object2 = factory(Person, \"Arthur\", \"King\")# Make a Person object\n",
    "object3 = factory(Person, name='Brian')    # Ditto, with keywords and default"
   ]
  },
  {
   "cell_type": "code",
   "execution_count": 41,
   "metadata": {},
   "outputs": [
    {
     "name": "stdout",
     "output_type": "stream",
     "text": [
      "99\n"
     ]
    }
   ],
   "source": [
    "object1.doit(99)"
   ]
  },
  {
   "cell_type": "code",
   "execution_count": 42,
   "metadata": {},
   "outputs": [
    {
     "data": {
      "text/plain": [
       "('Arthur', 'King')"
      ]
     },
     "execution_count": 42,
     "metadata": {},
     "output_type": "execute_result"
    }
   ],
   "source": [
    "object2.name, object2.job"
   ]
  },
  {
   "cell_type": "code",
   "execution_count": 43,
   "metadata": {},
   "outputs": [
    {
     "data": {
      "text/plain": [
       "('Brian', None)"
      ]
     },
     "execution_count": 43,
     "metadata": {},
     "output_type": "execute_result"
    }
   ],
   "source": [
    "object3.name, object3.job"
   ]
  },
  {
   "cell_type": "code",
   "execution_count": 44,
   "metadata": {},
   "outputs": [],
   "source": [
    "class Spam:\n",
    "    def __init__(self):                # No __repr__ or __str__\n",
    "        self.data1 = 'food'"
   ]
  },
  {
   "cell_type": "code",
   "execution_count": 46,
   "metadata": {},
   "outputs": [
    {
     "name": "stdout",
     "output_type": "stream",
     "text": [
      "<__main__.Spam object at 0x7f8b8b144d60>\n"
     ]
    }
   ],
   "source": [
    "X = Spam()\n",
    "print(X) # Defaults: class name + address (id). Same in 2.X, but says \"instance\""
   ]
  },
  {
   "cell_type": "code",
   "execution_count": 1,
   "metadata": {},
   "outputs": [],
   "source": [
    "from listinstance import ListInstance\n",
    "class Spam(ListInstance): # Inherit a __str__ method\n",
    "    def __init__(self):\n",
    "        self.data1 = 'food'"
   ]
  },
  {
   "cell_type": "code",
   "execution_count": 2,
   "metadata": {},
   "outputs": [
    {
     "name": "stdout",
     "output_type": "stream",
     "text": [
      "<Instance of Spam, address 140319991266128:\n",
      "\tdata1=food\n",
      ">\n"
     ]
    }
   ],
   "source": [
    "x = Spam()\n",
    "print(x) # print() and str() run __str__"
   ]
  },
  {
   "cell_type": "code",
   "execution_count": 3,
   "metadata": {},
   "outputs": [
    {
     "data": {
      "text/plain": [
       "'<Instance of Spam, address 140319991266128:\\n\\tdata1=food\\n>'"
      ]
     },
     "execution_count": 3,
     "metadata": {},
     "output_type": "execute_result"
    }
   ],
   "source": [
    "display = str(x) # Print this to interpret escapes\n",
    "display"
   ]
  },
  {
   "cell_type": "code",
   "execution_count": 4,
   "metadata": {},
   "outputs": [
    {
     "data": {
      "text/plain": [
       "<__main__.Spam at 0x7f9ecb3bfb50>"
      ]
     },
     "execution_count": 4,
     "metadata": {},
     "output_type": "execute_result"
    }
   ],
   "source": [
    "x # The __repr__ still is a default"
   ]
  },
  {
   "cell_type": "code",
   "execution_count": 5,
   "metadata": {},
   "outputs": [],
   "source": [
    "import listinstance\n",
    "class C(listinstance.ListInstance): pass"
   ]
  },
  {
   "cell_type": "code",
   "execution_count": 6,
   "metadata": {},
   "outputs": [
    {
     "name": "stdout",
     "output_type": "stream",
     "text": [
      "<Instance of C, address 140319986987360:\n",
      "\ta=1\n",
      "\tb=2\n",
      "\tc=3\n",
      ">\n"
     ]
    }
   ],
   "source": [
    "x = C()\n",
    "x.a, x.b, x.c = 1, 2, 3\n",
    "print(x)"
   ]
  },
  {
   "cell_type": "code",
   "execution_count": 1,
   "metadata": {},
   "outputs": [],
   "source": [
    "from listtree import ListTree\n",
    "from tkinter import Button # Both classes have a __str__\n",
    "class MyButton(ListTree, Button): pass # ListTree first: use its __str__"
   ]
  },
  {
   "cell_type": "code",
   "execution_count": 2,
   "metadata": {},
   "outputs": [
    {
     "data": {
      "text/plain": [
       "19419"
      ]
     },
     "execution_count": 2,
     "metadata": {},
     "output_type": "execute_result"
    }
   ],
   "source": [
    "B = MyButton(text='spam')\n",
    "open('savetree.txt', 'w').write(str(B)) # Save to a file for later viewing"
   ]
  },
  {
   "cell_type": "code",
   "execution_count": 3,
   "metadata": {},
   "outputs": [
    {
     "data": {
      "text/plain": [
       "320"
      ]
     },
     "execution_count": 3,
     "metadata": {},
     "output_type": "execute_result"
    }
   ],
   "source": [
    "len(open('savetree.txt').readlines()) # Lines in the file"
   ]
  },
  {
   "cell_type": "code",
   "execution_count": 4,
   "metadata": {},
   "outputs": [
    {
     "name": "stdout",
     "output_type": "stream",
     "text": [
      "<Instance of MyButton, address 140500970645872: \n",
      " _ListTree__visited={}\n",
      " _name=!mybutton\n",
      " _tclCommands=[]\n",
      " _w=.!mybutton\n",
      " children={}\n",
      " master=.\n",
      " tk=<_tkinter.tkapp object at 0x7fc8ee75d2b0>\n",
      " widgetName=button\n",
      "\n",
      "....<Class MyButton, address 94517691208944:\n",
      "     __doc__\n",
      "     __module__\n",
      "\n",
      "........<Class ListTree, address 94517691011264:\n",
      "         _ListTree__attrnames=<function ListTree.__attrnames at 0x7fc8eef9e0d0>\n",
      "         _ListTree__listclass=<function ListTree.__listclass at 0x7fc8eef9e790>\n",
      "         __dict__\n",
      "         __doc__\n",
      "         __module__\n",
      "         __str__\n",
      "         __weakref__\n",
      "\n",
      "............<Class object, address 94517653917216:\n",
      "             __class__\n",
      "             __delattr__\n",
      "             __dir__\n",
      "             __doc__\n",
      "             __eq__\n",
      "             __format__\n",
      "             __ge__\n",
      "             __getattribute__\n",
      "             __gt__\n",
      "             __hash__\n",
      "             __init__\n",
      "             __init_subclass__\n",
      "             __le__\n",
      "             __lt__\n",
      "             __ne__\n",
      "             __new__\n",
      "             __reduce__\n",
      "             __reduce_ex__\n",
      "             __repr__\n",
      "             __setattr__\n",
      "             __sizeof__\n",
      "             __str__\n",
      "             __subclasshook__\n",
      "............>\n",
      "........>\n",
      "\n",
      "........<Class Button, address 94517691181712:\n",
      "         __doc__\n",
      "         __init__\n",
      "         __module__\n",
      "         flash=<function Button.flash at 0x7fc8ee724430>\n",
      "         invoke=<function Button.invoke at 0x7fc8ee7244c0>\n",
      "\n",
      "............<Class Widget, address 94517691179824:\n",
      "             __doc__\n",
      "             __module__\n",
      "\n",
      "................<Class BaseWidget, address 94517691176640:\n",
      "                 __doc__\n",
      "                 __init__\n",
      "                 __module__\n",
      "                 _do=<function BaseWidget._do at 0x7fc8ee724280>\n",
      "                 _setup=<function BaseWidget._setup at 0x7fc8ee7240d0>\n",
      "                 destroy=<function BaseWidget.destroy at 0x7fc8ee7241f0>\n",
      "\n",
      "....................<Class Misc, address 94517691154752:\n",
      "                     _Misc__winfo_getint=<function Misc.__winfo_getint at 0x7fc8ee71ee50>\n",
      "                     _Misc__winfo_parseitem=<function Misc.__winfo_parseitem at 0x7fc8ee71edc0>\n",
      "                     __dict__\n",
      "                     __doc__\n",
      "                     __getitem__\n",
      "                     __module__\n",
      "                     __repr__\n",
      "                     __setitem__\n",
      "                     __str__\n",
      "                     __weakref__\n",
      "                     _bind=<function Misc._bind at 0x7fc8ee71f4c0>\n",
      "                     _configure=<function Misc._configure at 0x7fc8ee720160>\n",
      "                     _displayof=<function Misc._displayof at 0x7fc8ee71fb80>\n",
      "                     _getboolean=<function Misc._getboolean at 0x7fc8ee71faf0>\n",
      "                     _getconfigure=<function Misc._getconfigure at 0x7fc8ee720040>\n",
      "                     _getconfigure1=<function Misc._getconfigure1 at 0x7fc8ee7200d0>\n",
      "                     _getdoubles=<function Misc._getdoubles at 0x7fc8ee71fa60>\n",
      "                     _getints=<function Misc._getints at 0x7fc8ee71f9d0>\n",
      "                     _grid_configure=<function Misc._grid_configure at 0x7fc8ee7208b0>\n",
      "                     _gridconvvalue=<function Misc._gridconvvalue at 0x7fc8ee720820>\n",
      "                     _last_child_ids=None\n",
      "                     _nametowidget=<function Misc.nametowidget at 0x7fc8ee71fd30>\n",
      "                     _noarg_=['_noarg_']\n",
      "                     _options=<function Misc._options at 0x7fc8ee71fca0>\n",
      "                     _register=<function Misc._register at 0x7fc8ee71fdc0>\n",
      "                     _report_exception=<function Misc._report_exception at 0x7fc8ee71ff70>\n",
      "                     _root=<function Misc._root at 0x7fc8ee71fe50>\n",
      "                     _subst_format=('%#', '%b', '%f', '%h', '%k', '%s', '%t', '%w', '%x', '%y', '%A', '%E', '%K', '%N', '%W', '%T', '%X', '%Y', '%D')\n",
      "                     _subst_format_str=%# %b %f %h %k %s %t %w %x %y %A %E %K %N %W %T %X %Y %D\n",
      "                     _substitute=<function Misc._substitute at 0x7fc8ee71fee0>\n",
      "                     _tclCommands=None\n",
      "                     _windowingsystem=<property object at 0x7fc8fe9482c0>\n",
      "                     after=<function Misc.after at 0x7fc8ee71c820>\n",
      "                     after_cancel=<function Misc.after_cancel at 0x7fc8ee71c940>\n",
      "                     after_idle=<function Misc.after_idle at 0x7fc8ee71c8b0>\n",
      "                     anchor=<function Misc.grid_anchor at 0x7fc8ee720700>\n",
      "                     bbox=<function Misc.grid_bbox at 0x7fc8ee720790>\n",
      "                     bell=<function Misc.bell at 0x7fc8ee71c9d0>\n",
      "                     bind=<function Misc.bind at 0x7fc8ee71f550>\n",
      "                     bind_all=<function Misc.bind_all at 0x7fc8ee71f670>\n",
      "                     bind_class=<function Misc.bind_class at 0x7fc8ee71f790>\n",
      "                     bindtags=<function Misc.bindtags at 0x7fc8ee71f430>\n",
      "                     cget=<function Misc.cget at 0x7fc8ee720280>\n",
      "                     clipboard_append=<function Misc.clipboard_append at 0x7fc8ee71cb80>\n",
      "                     clipboard_clear=<function Misc.clipboard_clear at 0x7fc8ee71caf0>\n",
      "                     clipboard_get=<function Misc.clipboard_get at 0x7fc8ee71ca60>\n",
      "                     columnconfigure=<function Misc.grid_columnconfigure at 0x7fc8ee720940>\n",
      "                     config=<function Misc.configure at 0x7fc8ee7201f0>\n",
      "                     configure=<function Misc.configure at 0x7fc8ee7201f0>\n",
      "                     deletecommand=<function Misc.deletecommand at 0x7fc8ee71bca0>\n",
      "                     destroy=<function Misc.destroy at 0x7fc8ee71bc10>\n",
      "                     event_add=<function Misc.event_add at 0x7fc8ee720ca0>\n",
      "                     event_delete=<function Misc.event_delete at 0x7fc8ee720d30>\n",
      "                     event_generate=<function Misc.event_generate at 0x7fc8ee720dc0>\n",
      "                     event_info=<function Misc.event_info at 0x7fc8ee720e50>\n",
      "                     focus=<function Misc.focus_set at 0x7fc8ee71c3a0>\n",
      "                     focus_displayof=<function Misc.focus_displayof at 0x7fc8ee71c550>\n",
      "                     focus_force=<function Misc.focus_force at 0x7fc8ee71c430>\n",
      "                     focus_get=<function Misc.focus_get at 0x7fc8ee71c4c0>\n",
      "                     focus_lastfor=<function Misc.focus_lastfor at 0x7fc8ee71c5e0>\n",
      "                     focus_set=<function Misc.focus_set at 0x7fc8ee71c3a0>\n",
      "                     getboolean=<function Misc.getboolean at 0x7fc8ee71c310>\n",
      "                     getdouble=<function Misc.getdouble at 0x7fc8ee71c280>\n",
      "                     getint=<function Misc.getint at 0x7fc8ee71c1f0>\n",
      "                     getvar=<function Misc.getvar at 0x7fc8ee71c160>\n",
      "                     grab_current=<function Misc.grab_current at 0x7fc8ee71cc10>\n",
      "                     grab_release=<function Misc.grab_release at 0x7fc8ee71cca0>\n",
      "                     grab_set=<function Misc.grab_set at 0x7fc8ee71cd30>\n",
      "                     grab_set_global=<function Misc.grab_set_global at 0x7fc8ee71cdc0>\n",
      "                     grab_status=<function Misc.grab_status at 0x7fc8ee71ce50>\n",
      "                     grid_anchor=<function Misc.grid_anchor at 0x7fc8ee720700>\n",
      "                     grid_bbox=<function Misc.grid_bbox at 0x7fc8ee720790>\n",
      "                     grid_columnconfigure=<function Misc.grid_columnconfigure at 0x7fc8ee720940>\n",
      "                     grid_location=<function Misc.grid_location at 0x7fc8ee7209d0>\n",
      "                     grid_propagate=<function Misc.grid_propagate at 0x7fc8ee720a60>\n",
      "                     grid_rowconfigure=<function Misc.grid_rowconfigure at 0x7fc8ee720af0>\n",
      "                     grid_size=<function Misc.grid_size at 0x7fc8ee720b80>\n",
      "                     grid_slaves=<function Misc.grid_slaves at 0x7fc8ee720c10>\n",
      "                     image_names=<function Misc.image_names at 0x7fc8ee720ee0>\n",
      "                     image_types=<function Misc.image_types at 0x7fc8ee720f70>\n",
      "                     keys=<function Misc.keys at 0x7fc8ee7203a0>\n",
      "                     lift=<function Misc.tkraise at 0x7fc8ee71d550>\n",
      "                     lower=<function Misc.lower at 0x7fc8ee71d4c0>\n",
      "                     mainloop=<function Misc.mainloop at 0x7fc8ee71f8b0>\n",
      "                     nametowidget=<function Misc.nametowidget at 0x7fc8ee71fd30>\n",
      "                     option_add=<function Misc.option_add at 0x7fc8ee71cee0>\n",
      "                     option_clear=<function Misc.option_clear at 0x7fc8ee71cf70>\n",
      "                     option_get=<function Misc.option_get at 0x7fc8ee71d040>\n",
      "                     option_readfile=<function Misc.option_readfile at 0x7fc8ee71d0d0>\n",
      "                     pack_propagate=<function Misc.pack_propagate at 0x7fc8ee720550>\n",
      "                     pack_slaves=<function Misc.pack_slaves at 0x7fc8ee7205e0>\n",
      "                     place_slaves=<function Misc.place_slaves at 0x7fc8ee720670>\n",
      "                     propagate=<function Misc.pack_propagate at 0x7fc8ee720550>\n",
      "                     quit=<function Misc.quit at 0x7fc8ee71f940>\n",
      "                     register=<function Misc._register at 0x7fc8ee71fdc0>\n",
      "                     rowconfigure=<function Misc.grid_rowconfigure at 0x7fc8ee720af0>\n",
      "                     selection_clear=<function Misc.selection_clear at 0x7fc8ee71d160>\n",
      "                     selection_get=<function Misc.selection_get at 0x7fc8ee71d1f0>\n",
      "                     selection_handle=<function Misc.selection_handle at 0x7fc8ee71d280>\n",
      "                     selection_own=<function Misc.selection_own at 0x7fc8ee71d310>\n",
      "                     selection_own_get=<function Misc.selection_own_get at 0x7fc8ee71d3a0>\n",
      "                     send=<function Misc.send at 0x7fc8ee71d430>\n",
      "                     setvar=<function Misc.setvar at 0x7fc8ee71c0d0>\n",
      "                     size=<function Misc.grid_size at 0x7fc8ee720b80>\n",
      "                     slaves=<function Misc.pack_slaves at 0x7fc8ee7205e0>\n",
      "                     tk_bisque=<function Misc.tk_bisque at 0x7fc8ee71bdc0>\n",
      "                     tk_focusFollowsMouse=<function Misc.tk_focusFollowsMouse at 0x7fc8ee71c670>\n",
      "                     tk_focusNext=<function Misc.tk_focusNext at 0x7fc8ee71c700>\n",
      "                     tk_focusPrev=<function Misc.tk_focusPrev at 0x7fc8ee71c790>\n",
      "                     tk_setPalette=<function Misc.tk_setPalette at 0x7fc8ee71be50>\n",
      "                     tk_strictMotif=<function Misc.tk_strictMotif at 0x7fc8ee71bd30>\n",
      "                     tkraise=<function Misc.tkraise at 0x7fc8ee71d550>\n",
      "                     unbind=<function Misc.unbind at 0x7fc8ee71f5e0>\n",
      "                     unbind_all=<function Misc.unbind_all at 0x7fc8ee71f700>\n",
      "                     unbind_class=<function Misc.unbind_class at 0x7fc8ee71f820>\n",
      "                     update=<function Misc.update at 0x7fc8ee71f310>\n",
      "                     update_idletasks=<function Misc.update_idletasks at 0x7fc8ee71f3a0>\n",
      "                     wait_variable=<function Misc.wait_variable at 0x7fc8ee71bee0>\n",
      "                     wait_visibility=<function Misc.wait_visibility at 0x7fc8ee71c040>\n",
      "                     wait_window=<function Misc.wait_window at 0x7fc8ee71bf70>\n",
      "                     waitvar=<function Misc.wait_variable at 0x7fc8ee71bee0>\n",
      "                     winfo_atom=<function Misc.winfo_atom at 0x7fc8ee71d5e0>\n",
      "                     winfo_atomname=<function Misc.winfo_atomname at 0x7fc8ee71d670>\n",
      "                     winfo_cells=<function Misc.winfo_cells at 0x7fc8ee71d700>\n",
      "                     winfo_children=<function Misc.winfo_children at 0x7fc8ee71d790>\n",
      "                     winfo_class=<function Misc.winfo_class at 0x7fc8ee71d820>\n",
      "                     winfo_colormapfull=<function Misc.winfo_colormapfull at 0x7fc8ee71d8b0>\n",
      "                     winfo_containing=<function Misc.winfo_containing at 0x7fc8ee71d940>\n",
      "                     winfo_depth=<function Misc.winfo_depth at 0x7fc8ee71d9d0>\n",
      "                     winfo_exists=<function Misc.winfo_exists at 0x7fc8ee71da60>\n",
      "                     winfo_fpixels=<function Misc.winfo_fpixels at 0x7fc8ee71daf0>\n",
      "                     winfo_geometry=<function Misc.winfo_geometry at 0x7fc8ee71db80>\n",
      "                     winfo_height=<function Misc.winfo_height at 0x7fc8ee71dc10>\n",
      "                     winfo_id=<function Misc.winfo_id at 0x7fc8ee71dca0>\n",
      "                     winfo_interps=<function Misc.winfo_interps at 0x7fc8ee71dd30>\n",
      "                     winfo_ismapped=<function Misc.winfo_ismapped at 0x7fc8ee71ddc0>\n",
      "                     winfo_manager=<function Misc.winfo_manager at 0x7fc8ee71de50>\n",
      "                     winfo_name=<function Misc.winfo_name at 0x7fc8ee71dee0>\n",
      "                     winfo_parent=<function Misc.winfo_parent at 0x7fc8ee71df70>\n",
      "                     winfo_pathname=<function Misc.winfo_pathname at 0x7fc8ee71e040>\n",
      "                     winfo_pixels=<function Misc.winfo_pixels at 0x7fc8ee71e0d0>\n",
      "                     winfo_pointerx=<function Misc.winfo_pointerx at 0x7fc8ee71e160>\n",
      "                     winfo_pointerxy=<function Misc.winfo_pointerxy at 0x7fc8ee71e1f0>\n",
      "                     winfo_pointery=<function Misc.winfo_pointery at 0x7fc8ee71e280>\n",
      "                     winfo_reqheight=<function Misc.winfo_reqheight at 0x7fc8ee71e310>\n",
      "                     winfo_reqwidth=<function Misc.winfo_reqwidth at 0x7fc8ee71e3a0>\n",
      "                     winfo_rgb=<function Misc.winfo_rgb at 0x7fc8ee71e430>\n",
      "                     winfo_rootx=<function Misc.winfo_rootx at 0x7fc8ee71e4c0>\n",
      "                     winfo_rooty=<function Misc.winfo_rooty at 0x7fc8ee71e550>\n",
      "                     winfo_screen=<function Misc.winfo_screen at 0x7fc8ee71e5e0>\n",
      "                     winfo_screencells=<function Misc.winfo_screencells at 0x7fc8ee71e670>\n",
      "                     winfo_screendepth=<function Misc.winfo_screendepth at 0x7fc8ee71e700>\n",
      "                     winfo_screenheight=<function Misc.winfo_screenheight at 0x7fc8ee71e790>\n",
      "                     winfo_screenmmheight=<function Misc.winfo_screenmmheight at 0x7fc8ee71e820>\n",
      "                     winfo_screenmmwidth=<function Misc.winfo_screenmmwidth at 0x7fc8ee71e8b0>\n",
      "                     winfo_screenvisual=<function Misc.winfo_screenvisual at 0x7fc8ee71e940>\n",
      "                     winfo_screenwidth=<function Misc.winfo_screenwidth at 0x7fc8ee71e9d0>\n",
      "                     winfo_server=<function Misc.winfo_server at 0x7fc8ee71ea60>\n",
      "                     winfo_toplevel=<function Misc.winfo_toplevel at 0x7fc8ee71eaf0>\n",
      "                     winfo_viewable=<function Misc.winfo_viewable at 0x7fc8ee71eb80>\n",
      "                     winfo_visual=<function Misc.winfo_visual at 0x7fc8ee71ec10>\n",
      "                     winfo_visualid=<function Misc.winfo_visualid at 0x7fc8ee71eca0>\n",
      "                     winfo_visualsavailable=<function Misc.winfo_visualsavailable at 0x7fc8ee71ed30>\n",
      "                     winfo_vrootheight=<function Misc.winfo_vrootheight at 0x7fc8ee71eee0>\n",
      "                     winfo_vrootwidth=<function Misc.winfo_vrootwidth at 0x7fc8ee71ef70>\n",
      "                     winfo_vrootx=<function Misc.winfo_vrootx at 0x7fc8ee71f040>\n",
      "                     winfo_vrooty=<function Misc.winfo_vrooty at 0x7fc8ee71f0d0>\n",
      "                     winfo_width=<function Misc.winfo_width at 0x7fc8ee71f160>\n",
      "                     winfo_x=<function Misc.winfo_x at 0x7fc8ee71f1f0>\n",
      "                     winfo_y=<function Misc.winfo_y at 0x7fc8ee71f280>\n",
      "\n",
      "........................<Class object:, address 94517653917216: (see above)>\n",
      "....................>\n",
      "................>\n",
      "\n",
      "................<Class Pack, address 94517691164096:\n",
      "                 __dict__\n",
      "                 __doc__\n",
      "                 __module__\n",
      "                 __weakref__\n",
      "                 config=<function Pack.pack_configure at 0x7fc8ee723af0>\n",
      "                 configure=<function Pack.pack_configure at 0x7fc8ee723af0>\n",
      "                 forget=<function Pack.pack_forget at 0x7fc8ee723b80>\n",
      "                 info=<function Pack.pack_info at 0x7fc8ee723c10>\n",
      "                 pack=<function Pack.pack_configure at 0x7fc8ee723af0>\n",
      "                 pack_configure=<function Pack.pack_configure at 0x7fc8ee723af0>\n",
      "                 pack_forget=<function Pack.pack_forget at 0x7fc8ee723b80>\n",
      "                 pack_info=<function Pack.pack_info at 0x7fc8ee723c10>\n",
      "                 pack_propagate=<function Misc.pack_propagate at 0x7fc8ee720550>\n",
      "                 pack_slaves=<function Misc.pack_slaves at 0x7fc8ee7205e0>\n",
      "                 propagate=<function Misc.pack_propagate at 0x7fc8ee720550>\n",
      "                 slaves=<function Misc.pack_slaves at 0x7fc8ee7205e0>\n",
      "\n",
      "....................<Class object:, address 94517653917216: (see above)>\n",
      "................>\n",
      "\n",
      "................<Class Place, address 94517691165632:\n",
      "                 __dict__\n",
      "                 __doc__\n",
      "                 __module__\n",
      "                 __weakref__\n",
      "                 config=<function Place.place_configure at 0x7fc8ee723ca0>\n",
      "                 configure=<function Place.place_configure at 0x7fc8ee723ca0>\n",
      "                 forget=<function Place.place_forget at 0x7fc8ee723d30>\n",
      "                 info=<function Place.place_info at 0x7fc8ee723dc0>\n",
      "                 place=<function Place.place_configure at 0x7fc8ee723ca0>\n",
      "                 place_configure=<function Place.place_configure at 0x7fc8ee723ca0>\n",
      "                 place_forget=<function Place.place_forget at 0x7fc8ee723d30>\n",
      "                 place_info=<function Place.place_info at 0x7fc8ee723dc0>\n",
      "                 place_slaves=<function Misc.place_slaves at 0x7fc8ee720670>\n",
      "                 slaves=<function Misc.place_slaves at 0x7fc8ee720670>\n",
      "\n",
      "....................<Class object:, address 94517653917216: (see above)>\n",
      "................>\n",
      "\n",
      "................<Class Grid, address 94517691178880:\n",
      "                 __dict__\n",
      "                 __doc__\n",
      "                 __module__\n",
      "                 __weakref__\n",
      "                 bbox=<function Misc.grid_bbox at 0x7fc8ee720790>\n",
      "                 columnconfigure=<function Misc.grid_columnconfigure at 0x7fc8ee720940>\n",
      "                 config=<function Grid.grid_configure at 0x7fc8ee723e50>\n",
      "                 configure=<function Grid.grid_configure at 0x7fc8ee723e50>\n",
      "                 forget=<function Grid.grid_forget at 0x7fc8ee723ee0>\n",
      "                 grid=<function Grid.grid_configure at 0x7fc8ee723e50>\n",
      "                 grid_bbox=<function Misc.grid_bbox at 0x7fc8ee720790>\n",
      "                 grid_columnconfigure=<function Misc.grid_columnconfigure at 0x7fc8ee720940>\n",
      "                 grid_configure=<function Grid.grid_configure at 0x7fc8ee723e50>\n",
      "                 grid_forget=<function Grid.grid_forget at 0x7fc8ee723ee0>\n",
      "                 grid_info=<function Grid.grid_info at 0x7fc8ee724040>\n",
      "                 grid_location=<function Misc.grid_location at 0x7fc8ee7209d0>\n",
      "                 grid_propagate=<function Misc.grid_propagate at 0x7fc8ee720a60>\n",
      "                 grid_remove=<function Grid.grid_remove at 0x7fc8ee723f70>\n",
      "                 grid_rowconfigure=<function Misc.grid_rowconfigure at 0x7fc8ee720af0>\n",
      "                 grid_size=<function Misc.grid_size at 0x7fc8ee720b80>\n",
      "                 grid_slaves=<function Misc.grid_slaves at 0x7fc8ee720c10>\n",
      "                 info=<function Grid.grid_info at 0x7fc8ee724040>\n",
      "                 location=<function Misc.grid_location at 0x7fc8ee7209d0>\n",
      "                 propagate=<function Misc.grid_propagate at 0x7fc8ee720a60>\n",
      "                 rowconfigure=<function Misc.grid_rowconfigure at 0x7fc8ee720af0>\n",
      "                 size=<function Misc.grid_size at 0x7fc8ee720b80>\n",
      "                 slaves=<function Misc.grid_slaves at 0x7fc8ee720c10>\n",
      "\n",
      "....................<Class object:, address 94517653917216: (see above)>\n",
      "................>\n",
      "............>\n",
      "........>\n",
      "....>\n",
      ">\n"
     ]
    }
   ],
   "source": [
    "print(B) # Print the display here"
   ]
  },
  {
   "cell_type": "code",
   "execution_count": 5,
   "metadata": {},
   "outputs": [
    {
     "name": "stdout",
     "output_type": "stream",
     "text": [
      "<Instance of MyButton, address 140500970645872: \n",
      " _ListTree__visited={}\n",
      " _name=!mybutton\n",
      " _tclCommands=[]\n",
      " _w=.!mybutton\n",
      " children={}\n",
      " master=.\n",
      " tk=<_tkinter.tkapp object at 0x7fc8ee75d2b0>\n",
      " widgetName=button\n",
      "\n",
      "....<Class MyButton, address 94517691208944:\n",
      "     __doc__\n",
      "     __module__\n",
      "\n",
      "........<Class ListTree, address 94517691011264:\n",
      "         _ListTree__attrnames=<function ListTree.__attrnames at 0x7fc8eef9e0d0>\n",
      "         _ListTree__listclass=<function ListTree.__listclass at 0x7fc8eef9e790>\n",
      "         __dict__\n",
      "         __doc__\n",
      "         __module__\n",
      "         __str__\n",
      "         __weakref__\n",
      "\n",
      "............<Class object, address 94517653917216:\n",
      "             __class__\n",
      "             __delattr__\n",
      "             __dir__\n",
      "             __doc__\n",
      "             __eq__\n",
      "             __format__\n",
      "             __ge__\n",
      "             __getattribute__\n",
      "             __gt__\n",
      "             __hash__\n",
      "             __init__\n",
      "             __init_subclass__\n",
      "             __le__\n",
      "             __lt__\n",
      "             __ne__\n",
      "             __new__\n",
      " \n"
     ]
    }
   ],
   "source": [
    "S = str(B) # Or print just the first part\n",
    "print(S[:1000])"
   ]
  },
  {
   "cell_type": "code",
   "execution_count": 6,
   "metadata": {},
   "outputs": [
    {
     "data": {
      "text/plain": [
       "listinstance.ListInstance"
      ]
     },
     "execution_count": 6,
     "metadata": {},
     "output_type": "execute_result"
    }
   ],
   "source": [
    "import lister\n",
    "lister.ListInstance # Use a specific lister"
   ]
  },
  {
   "cell_type": "code",
   "execution_count": 7,
   "metadata": {},
   "outputs": [
    {
     "data": {
      "text/plain": [
       "listtree.ListTree"
      ]
     },
     "execution_count": 7,
     "metadata": {},
     "output_type": "execute_result"
    }
   ],
   "source": [
    "lister.Lister # Use Lister default"
   ]
  },
  {
   "cell_type": "code",
   "execution_count": 9,
   "metadata": {},
   "outputs": [
    {
     "data": {
      "text/plain": [
       "listtree.ListTree"
      ]
     },
     "execution_count": 9,
     "metadata": {},
     "output_type": "execute_result"
    }
   ],
   "source": [
    "from lister import Lister # Use Lister default\n",
    "Lister"
   ]
  },
  {
   "cell_type": "code",
   "execution_count": 10,
   "metadata": {},
   "outputs": [
    {
     "data": {
      "text/plain": [
       "listinstance.ListInstance"
      ]
     },
     "execution_count": 10,
     "metadata": {},
     "output_type": "execute_result"
    }
   ],
   "source": [
    "from lister import ListInstance as Lister # Use Lister alias\n",
    "Lister"
   ]
  },
  {
   "cell_type": "code",
   "execution_count": null,
   "metadata": {},
   "outputs": [],
   "source": []
  }
 ],
 "metadata": {
  "kernelspec": {
   "display_name": "Python 3",
   "language": "python",
   "name": "python3"
  },
  "language_info": {
   "codemirror_mode": {
    "name": "ipython",
    "version": 3
   },
   "file_extension": ".py",
   "mimetype": "text/x-python",
   "name": "python",
   "nbconvert_exporter": "python",
   "pygments_lexer": "ipython3",
   "version": "3.8.1"
  }
 },
 "nbformat": 4,
 "nbformat_minor": 4
}
