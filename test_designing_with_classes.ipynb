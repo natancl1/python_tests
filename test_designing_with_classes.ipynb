{
 "cells": [
  {
   "cell_type": "code",
   "execution_count": 1,
   "metadata": {},
   "outputs": [],
   "source": [
    "class Selfless:\n",
    "    def __init__(self, data):\n",
    "        self.data = data\n",
    "    def selfless(arg1, arg2):    # A simple function in 3.X\n",
    "        return arg1 + arg2\n",
    "    def normal(self, arg1, arg2):# Instance expected when called\n",
    "        return self.data + arg1 + arg2"
   ]
  },
  {
   "cell_type": "code",
   "execution_count": 2,
   "metadata": {},
   "outputs": [],
   "source": [
    "X = Selfless(2)"
   ]
  },
  {
   "cell_type": "code",
   "execution_count": 3,
   "metadata": {},
   "outputs": [
    {
     "data": {
      "text/plain": [
       "9"
      ]
     },
     "execution_count": 3,
     "metadata": {},
     "output_type": "execute_result"
    }
   ],
   "source": [
    "X.normal(3, 4) # Instance passed to self automatically: 2+(3+4)"
   ]
  },
  {
   "cell_type": "code",
   "execution_count": 4,
   "metadata": {},
   "outputs": [
    {
     "data": {
      "text/plain": [
       "9"
      ]
     },
     "execution_count": 4,
     "metadata": {},
     "output_type": "execute_result"
    }
   ],
   "source": [
    "Selfless.normal(X, 3, 4) # self expected by method: pass manually"
   ]
  },
  {
   "cell_type": "code",
   "execution_count": 5,
   "metadata": {},
   "outputs": [
    {
     "data": {
      "text/plain": [
       "7"
      ]
     },
     "execution_count": 5,
     "metadata": {},
     "output_type": "execute_result"
    }
   ],
   "source": [
    "Selfless.selfless(3, 4) # Not instance: works in 3.X, fails in 2.X!"
   ]
  },
  {
   "cell_type": "code",
   "execution_count": 6,
   "metadata": {},
   "outputs": [
    {
     "ename": "TypeError",
     "evalue": "selfless() takes 2 positional arguments but 3 were given",
     "output_type": "error",
     "traceback": [
      "\u001b[0;31m---------------------------------------------------------------------------\u001b[0m",
      "\u001b[0;31mTypeError\u001b[0m                                 Traceback (most recent call last)",
      "\u001b[0;32m<ipython-input-6-abf884cf093e>\u001b[0m in \u001b[0;36m<module>\u001b[0;34m\u001b[0m\n\u001b[0;32m----> 1\u001b[0;31m \u001b[0mX\u001b[0m\u001b[0;34m.\u001b[0m\u001b[0mselfless\u001b[0m\u001b[0;34m(\u001b[0m\u001b[0;36m3\u001b[0m\u001b[0;34m,\u001b[0m \u001b[0;36m4\u001b[0m\u001b[0;34m)\u001b[0m\u001b[0;34m\u001b[0m\u001b[0;34m\u001b[0m\u001b[0m\n\u001b[0m",
      "\u001b[0;31mTypeError\u001b[0m: selfless() takes 2 positional arguments but 3 were given"
     ]
    }
   ],
   "source": [
    "X.selfless(3, 4)"
   ]
  },
  {
   "cell_type": "code",
   "execution_count": 7,
   "metadata": {},
   "outputs": [
    {
     "ename": "TypeError",
     "evalue": "normal() missing 1 required positional argument: 'arg2'",
     "output_type": "error",
     "traceback": [
      "\u001b[0;31m---------------------------------------------------------------------------\u001b[0m",
      "\u001b[0;31mTypeError\u001b[0m                                 Traceback (most recent call last)",
      "\u001b[0;32m<ipython-input-7-7f4067e03b4b>\u001b[0m in \u001b[0;36m<module>\u001b[0;34m\u001b[0m\n\u001b[0;32m----> 1\u001b[0;31m \u001b[0mSelfless\u001b[0m\u001b[0;34m.\u001b[0m\u001b[0mnormal\u001b[0m\u001b[0;34m(\u001b[0m\u001b[0;36m3\u001b[0m\u001b[0;34m,\u001b[0m \u001b[0;36m4\u001b[0m\u001b[0;34m)\u001b[0m\u001b[0;34m\u001b[0m\u001b[0;34m\u001b[0m\u001b[0m\n\u001b[0m",
      "\u001b[0;31mTypeError\u001b[0m: normal() missing 1 required positional argument: 'arg2'"
     ]
    }
   ],
   "source": [
    "Selfless.normal(3, 4)"
   ]
  },
  {
   "cell_type": "code",
   "execution_count": 8,
   "metadata": {},
   "outputs": [],
   "source": [
    "class Number:\n",
    "    def __init__(self, base):\n",
    "        self.base = base\n",
    "    def double(self):\n",
    "        return self.base * 2\n",
    "    def triple(self):\n",
    "        return self.base * 3"
   ]
  },
  {
   "cell_type": "code",
   "execution_count": 9,
   "metadata": {},
   "outputs": [
    {
     "data": {
      "text/plain": [
       "4"
      ]
     },
     "execution_count": 9,
     "metadata": {},
     "output_type": "execute_result"
    }
   ],
   "source": [
    "x = Number(2) # Class instance objects\n",
    "y = Number(3) # State + methods\n",
    "z = Number(4)\n",
    "x.double()    # Normal immediate calls"
   ]
  },
  {
   "cell_type": "code",
   "execution_count": 10,
   "metadata": {},
   "outputs": [],
   "source": [
    "acts = [x.double, y.double, y.triple, z.double] # List of bound methods"
   ]
  },
  {
   "cell_type": "code",
   "execution_count": 11,
   "metadata": {},
   "outputs": [
    {
     "name": "stdout",
     "output_type": "stream",
     "text": [
      "4\n",
      "6\n",
      "9\n",
      "8\n"
     ]
    }
   ],
   "source": [
    "for act in acts: # Calls are deferred\n",
    "    print(act()) # Call as though functions"
   ]
  },
  {
   "cell_type": "code",
   "execution_count": 12,
   "metadata": {},
   "outputs": [],
   "source": [
    "bound = x.double"
   ]
  },
  {
   "cell_type": "code",
   "execution_count": 13,
   "metadata": {},
   "outputs": [
    {
     "data": {
      "text/plain": [
       "(<__main__.Number at 0x7f8b92de0dc0>, <function __main__.Number.double(self)>)"
      ]
     },
     "execution_count": 13,
     "metadata": {},
     "output_type": "execute_result"
    }
   ],
   "source": [
    "bound.__self__, bound.__func__"
   ]
  },
  {
   "cell_type": "code",
   "execution_count": 14,
   "metadata": {},
   "outputs": [
    {
     "data": {
      "text/plain": [
       "2"
      ]
     },
     "execution_count": 14,
     "metadata": {},
     "output_type": "execute_result"
    }
   ],
   "source": [
    "bound.__self__.base"
   ]
  },
  {
   "cell_type": "code",
   "execution_count": 15,
   "metadata": {},
   "outputs": [
    {
     "data": {
      "text/plain": [
       "4"
      ]
     },
     "execution_count": 15,
     "metadata": {},
     "output_type": "execute_result"
    }
   ],
   "source": [
    "bound() # Calls bound.__func__(bound.__self__, ...)"
   ]
  },
  {
   "cell_type": "code",
   "execution_count": 16,
   "metadata": {},
   "outputs": [],
   "source": [
    "def square(arg):\n",
    "    return arg ** 2 # Simple functions (def or lambda)"
   ]
  },
  {
   "cell_type": "code",
   "execution_count": 17,
   "metadata": {},
   "outputs": [],
   "source": [
    "class Sum:\n",
    "    def __init__(self, val): # Callable instances\n",
    "        self.val = val\n",
    "    def __call__(self, arg):\n",
    "        return self.val + arg"
   ]
  },
  {
   "cell_type": "code",
   "execution_count": 18,
   "metadata": {},
   "outputs": [],
   "source": [
    "class Product:\n",
    "    def __init__(self, val): # Bound methods\n",
    "        self.val = val\n",
    "    def method(self, arg):\n",
    "        return self.val * arg"
   ]
  },
  {
   "cell_type": "code",
   "execution_count": 19,
   "metadata": {},
   "outputs": [],
   "source": [
    "sobject = Sum(2)\n",
    "pobject = Product(3)\n",
    "actions = [square, sobject, pobject.method] # Function, instance, method"
   ]
  },
  {
   "cell_type": "code",
   "execution_count": 20,
   "metadata": {},
   "outputs": [
    {
     "name": "stdout",
     "output_type": "stream",
     "text": [
      "25\n",
      "7\n",
      "15\n"
     ]
    }
   ],
   "source": [
    "for act in actions: # All three called same way\n",
    "    print(act(5))   # Call any one-arg callable"
   ]
  },
  {
   "cell_type": "code",
   "execution_count": 21,
   "metadata": {},
   "outputs": [
    {
     "data": {
      "text/plain": [
       "15"
      ]
     },
     "execution_count": 21,
     "metadata": {},
     "output_type": "execute_result"
    }
   ],
   "source": [
    "actions[-1](5) # Index, comprehensions, maps"
   ]
  },
  {
   "cell_type": "code",
   "execution_count": 22,
   "metadata": {},
   "outputs": [
    {
     "data": {
      "text/plain": [
       "[25, 7, 15]"
      ]
     },
     "execution_count": 22,
     "metadata": {},
     "output_type": "execute_result"
    }
   ],
   "source": [
    "[act(5) for act in actions]"
   ]
  },
  {
   "cell_type": "code",
   "execution_count": 23,
   "metadata": {},
   "outputs": [
    {
     "data": {
      "text/plain": [
       "[25, 7, 15]"
      ]
     },
     "execution_count": 23,
     "metadata": {},
     "output_type": "execute_result"
    }
   ],
   "source": [
    "list(map(lambda act: act(5), actions))"
   ]
  },
  {
   "cell_type": "code",
   "execution_count": 24,
   "metadata": {},
   "outputs": [],
   "source": [
    "class Negate:\n",
    "    def __init__(self, val): # Classes are callables too\n",
    "        self.val = -val      # But called for object, not work\n",
    "    def __repr__(self):      # Instance print format\n",
    "        return str(self.val)"
   ]
  },
  {
   "cell_type": "code",
   "execution_count": 25,
   "metadata": {},
   "outputs": [
    {
     "name": "stdout",
     "output_type": "stream",
     "text": [
      "25\n",
      "7\n",
      "15\n",
      "-5\n"
     ]
    }
   ],
   "source": [
    "actions = [square, sobject, pobject.method, Negate] # Call a class too\n",
    "for act in actions:\n",
    "    print(act(5))"
   ]
  },
  {
   "cell_type": "code",
   "execution_count": 26,
   "metadata": {},
   "outputs": [
    {
     "data": {
      "text/plain": [
       "[25, 7, 15, -5]"
      ]
     },
     "execution_count": 26,
     "metadata": {},
     "output_type": "execute_result"
    }
   ],
   "source": [
    "[act(5) for act in actions] # Runs __repr__ not __str__!"
   ]
  },
  {
   "cell_type": "code",
   "execution_count": 36,
   "metadata": {},
   "outputs": [
    {
     "name": "stdout",
     "output_type": "stream",
     "text": [
      "{25: <function square at 0x7f8b930b3dc0>, 7: <__main__.Sum object at 0x7f8b931e9640>, 15: <bound method Product.method of <__main__.Product object at 0x7f8b931e9580>>, -5: <class '__main__.Negate'>}\n",
      "25 => <function square at 0x7f8b930b3dc0>\n",
      "7 => <__main__.Sum object at 0x7f8b931e9640>\n",
      "15 => <bound method Product.method of <__main__.Product object at 0x7f8b931e9580>>\n",
      "-5 => <class '__main__.Negate'>\n"
     ]
    }
   ],
   "source": [
    "table = {act(5): act for act in actions}   # 3.X/2.7 dict comprehension\n",
    "print(table)\n",
    "for (key, value) in table.items():\n",
    "    print('{0} => {1}'.format(key, value)) # 2.6+/3.X str.format"
   ]
  },
  {
   "cell_type": "code",
   "execution_count": 39,
   "metadata": {},
   "outputs": [],
   "source": [
    "def factory(aClass, *pargs, **kargs): # Varargs tuple, dict\n",
    "    return aClass(*pargs, **kargs)    # Call aClass (or apply in 2.X only)"
   ]
  },
  {
   "cell_type": "code",
   "execution_count": 40,
   "metadata": {},
   "outputs": [],
   "source": [
    "class Spam:\n",
    "    def doit(self, message):\n",
    "        print(message)\n",
    "\n",
    "class Person:\n",
    "    def __init__(self, name, job=None):\n",
    "        self.name = name\n",
    "        self.job = job\n",
    "        \n",
    "object1 = factory(Spam)                    # Make a Spam object\n",
    "object2 = factory(Person, \"Arthur\", \"King\")# Make a Person object\n",
    "object3 = factory(Person, name='Brian')    # Ditto, with keywords and default"
   ]
  },
  {
   "cell_type": "code",
   "execution_count": 41,
   "metadata": {},
   "outputs": [
    {
     "name": "stdout",
     "output_type": "stream",
     "text": [
      "99\n"
     ]
    }
   ],
   "source": [
    "object1.doit(99)"
   ]
  },
  {
   "cell_type": "code",
   "execution_count": 42,
   "metadata": {},
   "outputs": [
    {
     "data": {
      "text/plain": [
       "('Arthur', 'King')"
      ]
     },
     "execution_count": 42,
     "metadata": {},
     "output_type": "execute_result"
    }
   ],
   "source": [
    "object2.name, object2.job"
   ]
  },
  {
   "cell_type": "code",
   "execution_count": 43,
   "metadata": {},
   "outputs": [
    {
     "data": {
      "text/plain": [
       "('Brian', None)"
      ]
     },
     "execution_count": 43,
     "metadata": {},
     "output_type": "execute_result"
    }
   ],
   "source": [
    "object3.name, object3.job"
   ]
  },
  {
   "cell_type": "code",
   "execution_count": 44,
   "metadata": {},
   "outputs": [],
   "source": [
    "class Spam:\n",
    "    def __init__(self):                # No __repr__ or __str__\n",
    "        self.data1 = 'food'"
   ]
  },
  {
   "cell_type": "code",
   "execution_count": 46,
   "metadata": {},
   "outputs": [
    {
     "name": "stdout",
     "output_type": "stream",
     "text": [
      "<__main__.Spam object at 0x7f8b8b144d60>\n"
     ]
    }
   ],
   "source": [
    "X = Spam()\n",
    "print(X) # Defaults: class name + address (id). Same in 2.X, but says \"instance\""
   ]
  },
  {
   "cell_type": "code",
   "execution_count": null,
   "metadata": {},
   "outputs": [],
   "source": []
  }
 ],
 "metadata": {
  "kernelspec": {
   "display_name": "Python 3",
   "language": "python",
   "name": "python3"
  },
  "language_info": {
   "codemirror_mode": {
    "name": "ipython",
    "version": 3
   },
   "file_extension": ".py",
   "mimetype": "text/x-python",
   "name": "python",
   "nbconvert_exporter": "python",
   "pygments_lexer": "ipython3",
   "version": "3.8.1"
  }
 },
 "nbformat": 4,
 "nbformat_minor": 4
}
